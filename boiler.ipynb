{
  "nbformat": 4,
  "nbformat_minor": 0,
  "metadata": {
    "colab": {
      "name": "boiler.ipynb",
      "provenance": []
    },
    "kernelspec": {
      "name": "python3",
      "display_name": "Python 3"
    },
    "language_info": {
      "name": "python"
    }
  },
  "cells": [
    {
      "cell_type": "code",
      "execution_count": null,
      "metadata": {
        "id": "X3YNvnq1jmIf"
      },
      "outputs": [],
      "source": [
        "import csv\n",
        "import pandas as pd\n",
        "import numpy as np\n",
        "import statistics\n",
        "from scipy import stats\n",
        "import math"
      ]
    },
    {
      "cell_type": "code",
      "source": [
        "#input pressure\n",
        "p = float(input('input the intrenal pressure (MPa): '))\n",
        "\n",
        "#input permissible material strength\n",
        "s = float(input('Enter material allowable stress (MPa): '))\n",
        "\n",
        "#input joint efficiency\n",
        "e = float(input('Enter Joint Efficiency: '))\n",
        "\n",
        "#inpur internal diameter\n",
        "d = float(input('Enter internal diameter (mm): '))\n",
        "\n",
        "#inpur corrosion allowance\n",
        "c = float(input('Enter corrosion allowace (mm): '))\n",
        "\n",
        "#internal radius\n",
        "r=d/2\n",
        "\n",
        "\n"
      ],
      "metadata": {
        "colab": {
          "base_uri": "https://localhost:8080/"
        },
        "id": "CQGq7HugkBNc",
        "outputId": "68160fd7-48fc-4f76-dcb5-407ce7c4004f"
      },
      "execution_count": null,
      "outputs": [
        {
          "name": "stdout",
          "output_type": "stream",
          "text": [
            "input the intrenal pressure (MPa): 15\n",
            "Enter material allowable stress (MPa): 137\n",
            "Enter Joint Efficiency: 1\n",
            "Enter internal diameter (mm): 1500\n",
            "Enter corrosion allowace (mm): 3\n"
          ]
        }
      ]
    },
    {
      "cell_type": "code",
      "source": [
        "#vessel shell thickness\n",
        "\n",
        "if p<0.385*s*e:\n",
        "  t=((p*r)/((s*e)-(0.6*p)))+c\n",
        "\n",
        "else:\n",
        "  print('ASME Sec 8 DIv 1 Do not apply')\n",
        "print('ASME Sec 8 is applicable and shell thickness -: t= ')\n",
        "print(t)\n",
        "\n"
      ],
      "metadata": {
        "colab": {
          "base_uri": "https://localhost:8080/"
        },
        "id": "tL_dymUFLkDd",
        "outputId": "7c79d0b2-ed05-4637-b5ef-d529f8e272b3"
      },
      "execution_count": null,
      "outputs": [
        {
          "output_type": "stream",
          "name": "stdout",
          "text": [
            "ASME Sec 8 is applicable and shell thickness -: t= \n",
            "90.890625\n"
          ]
        }
      ]
    },
    {
      "cell_type": "code",
      "source": [
        "#rounding off to next integer \n",
        "nt = math. ceil(t) \n",
        "\n",
        "print(nt)"
      ],
      "metadata": {
        "colab": {
          "base_uri": "https://localhost:8080/"
        },
        "id": "DlcStAzMM7AO",
        "outputId": "2f6297e4-8159-40d9-e67f-32e0f3d14d72"
      },
      "execution_count": null,
      "outputs": [
        {
          "output_type": "stream",
          "name": "stdout",
          "text": [
            "91\n"
          ]
        }
      ]
    },
    {
      "cell_type": "code",
      "source": [
        "#maximum allowable pressure due to added thickness\n",
        "\n",
        "ps=((s*e*nt)/(r+(0.6*nt)))\n",
        "print(ps)"
      ],
      "metadata": {
        "colab": {
          "base_uri": "https://localhost:8080/"
        },
        "id": "7Difb8eHLp74",
        "outputId": "8953819e-42a8-4286-d431-d960a95508ac"
      },
      "execution_count": null,
      "outputs": [
        {
          "output_type": "stream",
          "name": "stdout",
          "text": [
            "15.494655729555058\n"
          ]
        }
      ]
    },
    {
      "cell_type": "code",
      "source": [
        "#required head thickness\n",
        "\n",
        "th=((p*d)/((2*s*e)-(0.2*p)))+c\n",
        "\n",
        "print(th)"
      ],
      "metadata": {
        "colab": {
          "base_uri": "https://localhost:8080/"
        },
        "id": "M1TDNQuCGjqz",
        "outputId": "0f90c09f-cf8f-4a32-c642-93156b5b2171"
      },
      "execution_count": null,
      "outputs": [
        {
          "output_type": "stream",
          "name": "stdout",
          "text": [
            "86.02583025830258\n"
          ]
        }
      ]
    },
    {
      "cell_type": "code",
      "source": [
        "#rounding off to next integer \n",
        "nth = math. ceil(th) \n",
        "\n",
        "print(nth)"
      ],
      "metadata": {
        "colab": {
          "base_uri": "https://localhost:8080/"
        },
        "id": "tHHHeyEBLeGk",
        "outputId": "c109cdeb-0392-4b77-e8d2-405513128aef"
      },
      "execution_count": null,
      "outputs": [
        {
          "output_type": "stream",
          "name": "stdout",
          "text": [
            "87\n"
          ]
        }
      ]
    },
    {
      "cell_type": "code",
      "source": [
        "#head pressure calc\n",
        "\n",
        "ph=((2*s*e*nth)/(d+(0.2*nth)))\n",
        "\n",
        "print(ph)"
      ],
      "metadata": {
        "colab": {
          "base_uri": "https://localhost:8080/"
        },
        "id": "WsU9KcepLxA9",
        "outputId": "67e51389-8bb8-4f36-e1f6-7c298299a240"
      },
      "execution_count": null,
      "outputs": [
        {
          "output_type": "stream",
          "name": "stdout",
          "text": [
            "15.709766706207986\n"
          ]
        }
      ]
    },
    {
      "cell_type": "code",
      "source": [
        "#boiler MAWP\n",
        "\n",
        "MAWP = min(ph, ps)\n",
        "print (MAWP)"
      ],
      "metadata": {
        "id": "JL0ghuvNNkni",
        "colab": {
          "base_uri": "https://localhost:8080/"
        },
        "outputId": "a6334ca2-c6c2-4754-e690-a3260cc84e90"
      },
      "execution_count": null,
      "outputs": [
        {
          "output_type": "stream",
          "name": "stdout",
          "text": [
            "15.494655729555058\n"
          ]
        }
      ]
    },
    {
      "cell_type": "code",
      "source": [],
      "metadata": {
        "id": "n9EOe-W5GkLH"
      },
      "execution_count": null,
      "outputs": []
    }
  ]
}